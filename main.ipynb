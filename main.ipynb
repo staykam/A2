{
 "cells": [
  {
   "cell_type": "markdown",
   "id": "a4d48d69",
   "metadata": {},
   "source": [
    "# Group 21 hence 21mod 6 = 3 +1 = 4 \n",
    "SPY5.L   + SPY5z.CHIX + SPY5.P  \n"
   ]
  },
  {
   "cell_type": "code",
   "execution_count": null,
   "id": "86caab31",
   "metadata": {},
   "outputs": [],
   "source": []
  }
 ],
 "metadata": {
  "language_info": {
   "name": "python"
  }
 },
 "nbformat": 4,
 "nbformat_minor": 5
}
